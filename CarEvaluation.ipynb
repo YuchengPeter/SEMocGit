{
  "nbformat": 4,
  "nbformat_minor": 0,
  "metadata": {
    "colab": {
      "name": "CarEvaluation.ipynb",
      "provenance": [],
      "collapsed_sections": []
    },
    "kernelspec": {
      "name": "python3",
      "display_name": "Python 3"
    }
  },
  "cells": [
    {
      "cell_type": "markdown",
      "metadata": {
        "id": "bWGGdJCm7Hve",
        "colab_type": "text"
      },
      "source": [
        "# This is a simple neural network classification model for learning purposes.\n",
        "\n",
        "\n"
      ]
    },
    {
      "cell_type": "code",
      "metadata": {
        "id": "tGKnSB4pEnGy",
        "colab_type": "code",
        "colab": {}
      },
      "source": [
        "#!pip install tensorflow==2.0.0"
      ],
      "execution_count": 0,
      "outputs": []
    },
    {
      "cell_type": "code",
      "metadata": {
        "id": "Mj1gEJzzns-e",
        "colab_type": "code",
        "outputId": "b4abfe20-0fc2-4bb7-cc16-c93e93b293f4",
        "colab": {
          "base_uri": "https://localhost:8080/",
          "height": 35
        }
      },
      "source": [
        "import tensorflow as tf\n",
        "import pandas as pd\n",
        "from sklearn.model_selection import train_test_split\n",
        "from sklearn.preprocessing import OneHotEncoder\n",
        "print(tf.__version__)"
      ],
      "execution_count": 2,
      "outputs": [
        {
          "output_type": "stream",
          "text": [
            "2.0.0\n"
          ],
          "name": "stdout"
        }
      ]
    },
    {
      "cell_type": "code",
      "metadata": {
        "id": "X6vLD6IIHPTv",
        "colab_type": "code",
        "outputId": "6974c70d-ded5-47ec-88c4-d7fd304db11a",
        "colab": {
          "base_uri": "https://localhost:8080/",
          "height": 124
        }
      },
      "source": [
        "from google.colab import drive\n",
        "drive.mount('/content/drive')"
      ],
      "execution_count": 3,
      "outputs": [
        {
          "output_type": "stream",
          "text": [
            "Go to this URL in a browser: https://accounts.google.com/o/oauth2/auth?client_id=947318989803-6bn6qk8qdgf4n4g3pfee6491hc0brc4i.apps.googleusercontent.com&redirect_uri=urn%3aietf%3awg%3aoauth%3a2.0%3aoob&response_type=code&scope=email%20https%3a%2f%2fwww.googleapis.com%2fauth%2fdocs.test%20https%3a%2f%2fwww.googleapis.com%2fauth%2fdrive%20https%3a%2f%2fwww.googleapis.com%2fauth%2fdrive.photos.readonly%20https%3a%2f%2fwww.googleapis.com%2fauth%2fpeopleapi.readonly\n",
            "\n",
            "Enter your authorization code:\n",
            "··········\n",
            "Mounted at /content/drive\n"
          ],
          "name": "stdout"
        }
      ]
    },
    {
      "cell_type": "markdown",
      "metadata": {
        "id": "BXF9ZxMj7mXO",
        "colab_type": "text"
      },
      "source": [
        "Loads car evaluation data into a pandas dataframe"
      ]
    },
    {
      "cell_type": "code",
      "metadata": {
        "id": "5txECpG9pCZn",
        "colab_type": "code",
        "outputId": "0ccfce0c-7642-4b32-a8da-c5eb644d781c",
        "colab": {
          "base_uri": "https://localhost:8080/",
          "height": 121
        }
      },
      "source": [
        "df = pd.read_csv('/content/drive/My Drive/Dataset/Car Evaluation/car.data.txt', header=None)\n",
        "print(df.head())"
      ],
      "execution_count": 4,
      "outputs": [
        {
          "output_type": "stream",
          "text": [
            "       0      1  2  3      4     5      6\n",
            "0  vhigh  vhigh  2  2  small   low  unacc\n",
            "1  vhigh  vhigh  2  2  small   med  unacc\n",
            "2  vhigh  vhigh  2  2  small  high  unacc\n",
            "3  vhigh  vhigh  2  2    med   low  unacc\n",
            "4  vhigh  vhigh  2  2    med   med  unacc\n"
          ],
          "name": "stdout"
        }
      ]
    },
    {
      "cell_type": "markdown",
      "metadata": {
        "id": "NEo9VesG9faH",
        "colab_type": "text"
      },
      "source": [
        "Split data into training and testing set<br/>\n",
        "Encode training and testing data with one-hot encoding scheme; treating each category of having no intrinsic meaning"
      ]
    },
    {
      "cell_type": "code",
      "metadata": {
        "id": "OThKuZES4_NW",
        "colab_type": "code",
        "colab": {}
      },
      "source": [
        "train, test = train_test_split(df, test_size=0.2)\n",
        "trainX = train.drop(columns=6)\n",
        "testX = test.drop(columns=6)\n",
        "trainY = train[[6]]\n",
        "testY = test[[6]]\n",
        "xEncoder = OneHotEncoder(handle_unknown='ignore')\n",
        "xEncoder.fit(trainX)\n",
        "trainX = xEncoder.transform(trainX).toarray()\n",
        "testX = xEncoder.transform(testX).toarray()\n",
        "yEncoder = OneHotEncoder(handle_unknown='ignore')\n",
        "yEncoder.fit(trainY)\n",
        "trainY = yEncoder.transform(trainY).toarray()\n",
        "testY = yEncoder.transform(testY).toarray()\n",
        "numOfClass = trainY.shape[1]\n",
        "#print(trainX)\n",
        "#print(trainY)\n",
        "#print('Number of classes: %s'%(numOfClass))"
      ],
      "execution_count": 0,
      "outputs": []
    },
    {
      "cell_type": "markdown",
      "metadata": {
        "id": "Tiz_POQX5biV",
        "colab_type": "text"
      },
      "source": [
        "Build the model. The model has four hidden layers. Two layers with relu activation function and two dropout layers to reduce overfitting. Softmax is used for output layer "
      ]
    },
    {
      "cell_type": "code",
      "metadata": {
        "id": "D0LYCXm239H7",
        "colab_type": "code",
        "colab": {}
      },
      "source": [
        "model = tf.keras.models.Sequential([tf.keras.layers.Dense(128, activation='relu'), tf.keras.layers.Dropout(0.5), tf.keras.layers.Dense(128, activation='relu'), tf.keras.layers.Dropout(0.3),\n",
        "  tf.keras.layers.Dense(numOfClass, activation='softmax')])\n",
        "model.compile(optimizer='adam', loss='categorical_crossentropy', metrics=['accuracy'])"
      ],
      "execution_count": 0,
      "outputs": []
    },
    {
      "cell_type": "markdown",
      "metadata": {
        "id": "-PvIk3ew6ksk",
        "colab_type": "text"
      },
      "source": [
        "Train and evaluate the model"
      ]
    },
    {
      "cell_type": "markdown",
      "metadata": {
        "id": "V_McZ-6UA1MH",
        "colab_type": "text"
      },
      "source": [
        ""
      ]
    },
    {
      "cell_type": "code",
      "metadata": {
        "id": "KtCQBCXY4Jl6",
        "colab_type": "code",
        "colab": {
          "base_uri": "https://localhost:8080/",
          "height": 468
        },
        "outputId": "fc66edd9-d8b3-49df-c59c-b33f37fcda48"
      },
      "source": [
        "model.fit(trainX, trainY, epochs=10)\n",
        "print('\\nTraining model finished. \\n')\n",
        "model.evaluate(testX,  testY, verbose=2)"
      ],
      "execution_count": 37,
      "outputs": [
        {
          "output_type": "stream",
          "text": [
            "Train on 1382 samples\n",
            "Epoch 1/10\n",
            "1382/1382 [==============================] - 1s 465us/sample - loss: 0.9223 - accuracy: 0.6541\n",
            "Epoch 2/10\n",
            "1382/1382 [==============================] - 0s 101us/sample - loss: 0.6284 - accuracy: 0.7308\n",
            "Epoch 3/10\n",
            "1382/1382 [==============================] - 0s 97us/sample - loss: 0.5041 - accuracy: 0.7836\n",
            "Epoch 4/10\n",
            "1382/1382 [==============================] - 0s 94us/sample - loss: 0.4068 - accuracy: 0.8263\n",
            "Epoch 5/10\n",
            "1382/1382 [==============================] - 0s 91us/sample - loss: 0.3564 - accuracy: 0.8473\n",
            "Epoch 6/10\n",
            "1382/1382 [==============================] - 0s 95us/sample - loss: 0.3153 - accuracy: 0.8669\n",
            "Epoch 7/10\n",
            "1382/1382 [==============================] - 0s 87us/sample - loss: 0.2636 - accuracy: 0.8965\n",
            "Epoch 8/10\n",
            "1382/1382 [==============================] - 0s 86us/sample - loss: 0.2438 - accuracy: 0.9052\n",
            "Epoch 9/10\n",
            "1382/1382 [==============================] - 0s 90us/sample - loss: 0.2190 - accuracy: 0.9124\n",
            "Epoch 10/10\n",
            "1382/1382 [==============================] - 0s 91us/sample - loss: 0.2174 - accuracy: 0.9117\n",
            "\n",
            "Training model finished. \n",
            "\n",
            "346/1 - 0s - loss: 0.1493 - accuracy: 0.9682\n"
          ],
          "name": "stdout"
        },
        {
          "output_type": "execute_result",
          "data": {
            "text/plain": [
              "[0.1267010738394853, 0.9682081]"
            ]
          },
          "metadata": {
            "tags": []
          },
          "execution_count": 37
        }
      ]
    }
  ]
}